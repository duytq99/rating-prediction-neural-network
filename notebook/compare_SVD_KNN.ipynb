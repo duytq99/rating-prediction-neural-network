{
  "cells": [
    {
      "cell_type": "code",
      "execution_count": null,
      "metadata": {
        "colab": {
          "base_uri": "https://localhost:8080/"
        },
        "id": "j8WXgvSgVDe-",
        "outputId": "8ac95ab7-27bd-43b5-fbf0-66cdf5ab8b26"
      },
      "outputs": [
        {
          "name": "stdout",
          "output_type": "stream",
          "text": [
            "Mounted at /content/drive\n"
          ]
        }
      ],
      "source": [
        "from google.colab import drive\n",
        "drive.mount('/content/drive')"
      ]
    },
    {
      "cell_type": "code",
      "execution_count": null,
      "metadata": {
        "colab": {
          "base_uri": "https://localhost:8080/"
        },
        "id": "hlcdPZTbVn8m",
        "outputId": "321abc97-2d5a-44bf-af18-659d0f81d816"
      },
      "outputs": [
        {
          "name": "stdout",
          "output_type": "stream",
          "text": [
            "/content/drive/My Drive/Colab Notebooks/ML_Project/ml-20m\n"
          ]
        }
      ],
      "source": [
        "cd drive/My\\ Drive/Colab Notebooks/ML_Project/ml-20m"
      ]
    },
    {
      "cell_type": "code",
      "execution_count": null,
      "metadata": {
        "colab": {
          "base_uri": "https://localhost:8080/"
        },
        "id": "Xwax6yawUHS2",
        "outputId": "af3ba0b8-93d7-49cb-886e-3cff0a811253"
      },
      "outputs": [
        {
          "name": "stdout",
          "output_type": "stream",
          "text": [
            "Collecting surprise\n",
            "  Downloading surprise-0.1-py2.py3-none-any.whl (1.8 kB)\n",
            "Collecting scikit-surprise\n",
            "  Downloading scikit-surprise-1.1.1.tar.gz (11.8 MB)\n",
            "\u001b[K     |████████████████████████████████| 11.8 MB 15.1 MB/s \n",
            "\u001b[?25hRequirement already satisfied: joblib>=0.11 in /usr/local/lib/python3.7/dist-packages (from scikit-surprise->surprise) (1.0.1)\n",
            "Requirement already satisfied: numpy>=1.11.2 in /usr/local/lib/python3.7/dist-packages (from scikit-surprise->surprise) (1.19.5)\n",
            "Requirement already satisfied: scipy>=1.0.0 in /usr/local/lib/python3.7/dist-packages (from scikit-surprise->surprise) (1.4.1)\n",
            "Requirement already satisfied: six>=1.10.0 in /usr/local/lib/python3.7/dist-packages (from scikit-surprise->surprise) (1.15.0)\n",
            "Building wheels for collected packages: scikit-surprise\n",
            "  Building wheel for scikit-surprise (setup.py) ... \u001b[?25l\u001b[?25hdone\n",
            "  Created wheel for scikit-surprise: filename=scikit_surprise-1.1.1-cp37-cp37m-linux_x86_64.whl size=1619394 sha256=f196c92be1f8d75c97df434ebb21a68e8e295f4b8085acde66d355ca84fb0b7a\n",
            "  Stored in directory: /root/.cache/pip/wheels/76/44/74/b498c42be47b2406bd27994e16c5188e337c657025ab400c1c\n",
            "Successfully built scikit-surprise\n",
            "Installing collected packages: scikit-surprise, surprise\n",
            "Successfully installed scikit-surprise-1.1.1 surprise-0.1\n"
          ]
        }
      ],
      "source": [
        "pip install surprise "
      ]
    },
    {
      "cell_type": "code",
      "execution_count": null,
      "metadata": {
        "id": "286D8G9EWYJp"
      },
      "outputs": [],
      "source": [
        "import pandas as pd\n",
        "import time\n",
        "from surprise import KNNBasic, SVD\n",
        "from surprise import Reader\n",
        "from surprise import Dataset\n",
        "from surprise import accuracy"
      ]
    },
    {
      "cell_type": "code",
      "execution_count": null,
      "metadata": {
        "id": "MM8AHPNSXCjv"
      },
      "outputs": [],
      "source": [
        "# Load dữ liệu dạng dataframe\n",
        "train = pd.read_csv('training_set_80.csv')\n",
        "test = pd.read_csv('valid_set_20.csv')"
      ]
    },
    {
      "cell_type": "code",
      "execution_count": null,
      "metadata": {
        "id": "A-eH9_iyajmS"
      },
      "outputs": [],
      "source": [
        "# Xây dựng trainset, testset\n",
        "reader = Reader(rating_scale=(0.5,5))\n",
        "train_set = Dataset.load_from_df(train[['userId','movieId','rating']],reader=reader)\n",
        "test_set = Dataset.load_from_df(test[['userId','movieId','rating']],reader=reader)\n",
        "\n",
        "trainset = train_set.build_full_trainset()\n",
        "testset = test_set.build_full_trainset().build_testset()"
      ]
    },
    {
      "cell_type": "markdown",
      "metadata": {
        "id": "zVQN8aShfukG"
      },
      "source": [
        "# result"
      ]
    },
    {
      "cell_type": "markdown",
      "metadata": {
        "id": "RQKzmLXEUjx6"
      },
      "source": [
        "KNN Basic, k =40"
      ]
    },
    {
      "cell_type": "code",
      "execution_count": null,
      "metadata": {
        "colab": {
          "base_uri": "https://localhost:8080/"
        },
        "id": "KoJyUevYUp90",
        "outputId": "5ee6c1ba-d51b-49d7-8d0b-c339109c61cc"
      },
      "outputs": [
        {
          "name": "stdout",
          "output_type": "stream",
          "text": [
            "Computing the pearson similarity matrix...\n",
            "Done computing similarity matrix.\n",
            "RMSE: 0.8739\n"
          ]
        },
        {
          "data": {
            "text/plain": [
              "1894.1695232391357"
            ]
          },
          "execution_count": 13,
          "metadata": {},
          "output_type": "execute_result"
        }
      ],
      "source": [
        "t1 = time.time()\n",
        "sim_options = {'name': 'pearson',\n",
        "               'user_based': False  # item-item\n",
        "               }\n",
        "algo = KNNBasic(k=40,sim_options = sim_options) \n",
        "algo.fit(trainset)\n",
        "predictions = algo.test(testset)\n",
        "accuracy.rmse(predictions)\n",
        "time.time() - t1 # In ra thời gian chạy model"
      ]
    },
    {
      "cell_type": "code",
      "execution_count": null,
      "metadata": {
        "colab": {
          "base_uri": "https://localhost:8080/"
        },
        "id": "Dq0JxhDR_0Jv",
        "outputId": "4e519841-6971-4f0c-efe4-eab43efc415a"
      },
      "outputs": [
        {
          "name": "stdout",
          "output_type": "stream",
          "text": [
            "MAE:  0.6772\n"
          ]
        },
        {
          "data": {
            "text/plain": [
              "0.6771653311109029"
            ]
          },
          "execution_count": 16,
          "metadata": {},
          "output_type": "execute_result"
        }
      ],
      "source": [
        "accuracy.mae(predictions)"
      ]
    },
    {
      "cell_type": "markdown",
      "metadata": {
        "id": "ON058Jk-caIb"
      },
      "source": [
        "KNNBaseline K=10"
      ]
    },
    {
      "cell_type": "code",
      "execution_count": null,
      "metadata": {
        "colab": {
          "base_uri": "https://localhost:8080/"
        },
        "id": "9Gs1e7Oeupj0",
        "outputId": "46998649-db7a-475c-9e9c-d0d443978fc5"
      },
      "outputs": [
        {
          "name": "stdout",
          "output_type": "stream",
          "text": [
            "Computing the pearson similarity matrix...\n",
            "Done computing similarity matrix.\n",
            "RMSE: 0.8915\n",
            "MAE:  0.6875\n"
          ]
        },
        {
          "data": {
            "text/plain": [
              "1564.3493444919586"
            ]
          },
          "execution_count": 17,
          "metadata": {},
          "output_type": "execute_result"
        }
      ],
      "source": [
        "t1 = time.time()\n",
        "sim_options = {'name': 'pearson',\n",
        "               'user_based': False  # item-item\n",
        "               }\n",
        "algo = KNNBasic(k=10,sim_options = sim_options) \n",
        "algo.fit(trainset)\n",
        "predictions = algo.test(testset)\n",
        "accuracy.rmse(predictions)\n",
        "accuracy.mae(predictions)\n",
        "time.time() - t1 #In ra thời gian chạy model"
      ]
    },
    {
      "cell_type": "markdown",
      "metadata": {
        "id": "qjgi_FJBcr11"
      },
      "source": [
        "KNNBaseline K=20"
      ]
    },
    {
      "cell_type": "code",
      "execution_count": null,
      "metadata": {
        "colab": {
          "base_uri": "https://localhost:8080/"
        },
        "id": "HlSn1z5mcm_2",
        "outputId": "a3a93302-a579-44fd-dbae-1f10126b03e5"
      },
      "outputs": [
        {
          "name": "stdout",
          "output_type": "stream",
          "text": [
            "Computing the pearson similarity matrix...\n",
            "Done computing similarity matrix.\n",
            "RMSE: 0.8753\n",
            "MAE:  0.6772\n"
          ]
        },
        {
          "data": {
            "text/plain": [
              "1547.1187987327576"
            ]
          },
          "execution_count": 18,
          "metadata": {},
          "output_type": "execute_result"
        }
      ],
      "source": [
        "t1 = time.time()\n",
        "sim_options = {'name': 'pearson',\n",
        "               'user_based': False  # item-item\n",
        "               }\n",
        "algo = KNNBasic(k=20,sim_options = sim_options) \n",
        "algo.fit(trainset)\n",
        "predictions = algo.test(testset)\n",
        "accuracy.rmse(predictions)\n",
        "accuracy.mae(predictions)\n",
        "time.time() - t1 #In ra thời gian chạy model"
      ]
    },
    {
      "cell_type": "markdown",
      "metadata": {
        "id": "WXPCQq1J8Pyz"
      },
      "source": [
        "SVD"
      ]
    },
    {
      "cell_type": "code",
      "execution_count": null,
      "metadata": {
        "colab": {
          "base_uri": "https://localhost:8080/"
        },
        "id": "Pj4ngnSa8YCK",
        "outputId": "d15678a9-a7b8-4aa3-bde2-1a45aec5519a"
      },
      "outputs": [
        {
          "name": "stdout",
          "output_type": "stream",
          "text": [
            "RMSE: 0.8262\n",
            "MAE:  0.6384\n"
          ]
        },
        {
          "data": {
            "text/plain": [
              "417.35375928878784"
            ]
          },
          "execution_count": 9,
          "metadata": {},
          "output_type": "execute_result"
        }
      ],
      "source": [
        "t1 = time.time()\n",
        "\n",
        "algo = SVD(biased=False)\n",
        "algo.fit(trainset)\n",
        "predictions = algo.test(testset)\n",
        "accuracy.rmse(predictions)\n",
        "accuracy.mae(predictions)\n",
        "time.time() - t1 #In ra thời gian chạy model"
      ]
    }
  ],
  "metadata": {
    "colab": {
      "collapsed_sections": [],
      "machine_shape": "hm",
      "name": "KNNBasic_SVD.ipynb",
      "provenance": []
    },
    "kernelspec": {
      "display_name": "Python 3",
      "name": "python3"
    }
  },
  "nbformat": 4,
  "nbformat_minor": 0
}
